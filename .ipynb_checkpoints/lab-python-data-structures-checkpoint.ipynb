{
 "cells": [
  {
   "cell_type": "markdown",
   "metadata": {
    "tags": []
   },
   "source": [
    "# Lab | Data Structures "
   ]
  },
  {
   "cell_type": "markdown",
   "metadata": {},
   "source": [
    "## Exercise: Managing Customer Orders\n",
    "\n",
    "As part of a business venture, you are starting an online store that sells various products. To ensure smooth operations, you need to develop a program that manages customer orders and inventory.\n",
    "\n",
    "Follow the steps below to complete the exercise:\n",
    "\n",
    "1. Define a list called `products` that contains the following items: \"t-shirt\", \"mug\", \"hat\", \"book\", \"keychain\".\n",
    "\n",
    "2. Create an empty dictionary called `inventory`.\n",
    "\n",
    "3. Ask the user to input the quantity of each product available in the inventory. Use the product names from the `products` list as keys in the `inventory` dictionary and assign the respective quantities as values.\n",
    "\n",
    "4. Create an empty set called `customer_orders`.\n",
    "\n",
    "5. Ask the user to input the name of three products that a customer wants to order (from those in the products list, meaning three products out of \"t-shirt\", \"mug\", \"hat\", \"book\" or \"keychain\". Add each product name to the `customer_orders` set.\n",
    "\n",
    "6. Print the products in the `customer_orders` set.\n",
    "\n",
    "7. Calculate the following order statistics:\n",
    "   - Total Products Ordered: The total number of products in the `customer_orders` set.\n",
    "   - Percentage of Products Ordered: The percentage of products ordered compared to the total available products.\n",
    "   \n",
    "   Store these statistics in a tuple called `order_status`.\n",
    "\n",
    "8. Print the order statistics using the following format:\n",
    "   ```\n",
    "   Order Statistics:\n",
    "   Total Products Ordered: <total_products_ordered>\n",
    "   Percentage of Products Ordered: <percentage_ordered>% \n",
    "   ```\n",
    "\n",
    "9. Update the inventory by subtracting 1 from the quantity of each product. Modify the `inventory` dictionary accordingly.\n",
    "\n",
    "10. Print the updated inventory, displaying the quantity of each product on separate lines.\n",
    "\n",
    "Solve the exercise by implementing the steps using the Python concepts of lists, dictionaries, sets, and basic input/output operations. "
   ]
  },
  {
   "cell_type": "code",
   "execution_count": 1,
   "metadata": {},
   "outputs": [
    {
     "name": "stdout",
     "output_type": "stream",
     "text": [
      "Please input the available quantity of t-shirt: 1\n",
      "Please input the available quantity of mug: 2\n",
      "Please input the available quantity of hat: 3\n",
      "Please input the available quantity of book: 4\n",
      "Please input the available quantity of keychain: 5\n",
      "{'t-shirt': 1, 'mug': 2, 'hat': 3, 'book': 4, 'keychain': 5}\n",
      "Please input the name of the product you want to order, out of t-shirt, mug, hat, book, keychain: mug\n",
      "Please input the name of the product you want to order, out of t-shirt, mug, hat, book, keychain: hat\n",
      "Please input the name of the product you want to order, out of t-shirt, mug, hat, book, keychain: book\n",
      "{'hat', 'mug', 'book'}\n",
      "Order Statistics:\n",
      "Total Products Ordered: 3\n",
      "Percentage of Products Ordered: 20%\n",
      "Quantity of t-shirt in the inventory: 0\n",
      "Quantity of mug in the inventory: 1\n",
      "Quantity of hat in the inventory: 2\n",
      "Quantity of book in the inventory: 3\n",
      "Quantity of keychain in the inventory: 4\n"
     ]
    }
   ],
   "source": [
    "products = [\"t-shirt\", \"mug\", \"hat\", \"book\", \"keychain\"]\n",
    "\n",
    "inventory = {}\n",
    "\n",
    "for i in products:\n",
    "    inventory[i] = int(input(f\"Please input the available quantity of {i}: \"))\n",
    "    \n",
    "print(inventory)\n",
    "\n",
    "customer_orders = set()\n",
    "\n",
    "products_str = \", \".join([str(i) for i in products])\n",
    "\n",
    "for i in range(3):\n",
    "    customer_orders.add(input(f\"Please input the name of the product you want to order, out of {products_str}: \"))\n",
    "\n",
    "print(customer_orders)\n",
    "\n",
    "ttl_order = len(customer_orders)\n",
    "ttl_inventory = 0\n",
    "\n",
    "for value in inventory.values():\n",
    "    ttl_inventory += int(value)\n",
    "\n",
    "percentage = round((ttl_order / ttl_inventory) * 100)\n",
    "\n",
    "order_status = (ttl_order, percentage)\n",
    "\n",
    "print(\"Order Statistics:\")\n",
    "print(f\"Total Products Ordered: {order_status[0]}\")\n",
    "print(f\"Percentage of Products Ordered: {order_status[1]}%\") \n",
    "\n",
    "for key in inventory.keys():\n",
    "    inventory[key] -= 1\n",
    "\n",
    "for key, value in inventory.items():\n",
    "    print(f\"Quantity of {key} in the inventory: {value}\")"
   ]
  },
  {
   "cell_type": "code",
   "execution_count": null,
   "metadata": {},
   "outputs": [],
   "source": []
  }
 ],
 "metadata": {
  "kernelspec": {
   "display_name": "Python 3 (ipykernel)",
   "language": "python",
   "name": "python3"
  },
  "language_info": {
   "codemirror_mode": {
    "name": "ipython",
    "version": 3
   },
   "file_extension": ".py",
   "mimetype": "text/x-python",
   "name": "python",
   "nbconvert_exporter": "python",
   "pygments_lexer": "ipython3",
   "version": "3.11.3"
  }
 },
 "nbformat": 4,
 "nbformat_minor": 4
}
